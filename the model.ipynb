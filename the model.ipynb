{
 "cells": [
  {
   "cell_type": "markdown",
   "metadata": {},
   "source": [
    "### Prepare Data\n",
    "- convert categorical fields to dummies\n",
    "- normalize data\n",
    "- test/train/validation set split\n",
    "\n",
    "### Train and Evaluate\n",
    "- Train the model using 1) RandomForest and 2) XGBoost\n",
    "- Evaluate the predictions agains the test set\n",
    "\n",
    "### Prediction API\n",
    "- Implement a function that takes raw data as input and produces the hourly predictions\n",
    "    - implement a function that converts the dummies back to categorical\n",
    "    - denormalize the data back to the original scale    "
   ]
  },
  {
   "cell_type": "code",
   "execution_count": null,
   "metadata": {
    "collapsed": true
   },
   "outputs": [],
   "source": []
  }
 ],
 "metadata": {
  "anaconda-cloud": {},
  "kernelspec": {
   "display_name": "Python [venv]",
   "language": "python",
   "name": "Python [venv]"
  },
  "language_info": {
   "codemirror_mode": {
    "name": "ipython",
    "version": 3
   },
   "file_extension": ".py",
   "mimetype": "text/x-python",
   "name": "python",
   "nbconvert_exporter": "python",
   "pygments_lexer": "ipython3",
   "version": "3.5.3"
  }
 },
 "nbformat": 4,
 "nbformat_minor": 0
}
