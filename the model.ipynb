{
 "cells": [
  {
   "cell_type": "markdown",
   "metadata": {},
   "source": [
    "### Prepare Data\n",
    "- convert categorical fields to dummies\n",
    "- normalize data\n",
    "- test/train/validation set split\n",
    "    - use the last 3-4 years for testing and validation\n",
    "\n",
    "### Train and Evaluate\n",
    "- Train the model using 1) RandomForest and 2) XGBoost\n",
    "- Evaluate the predictions agains the test set\n",
    "\n",
    "### Prediction API\n",
    "- Implement a function that takes raw data as input and produces the hourly predictions\n",
    "    - implement a function that converts the dummies back to categorical\n",
    "    - denormalize the data back to the original scale    "
   ]
  },
  {
   "cell_type": "code",
   "execution_count": 1,
   "metadata": {
    "collapsed": true
   },
   "outputs": [],
   "source": [
    "import numpy as np\n",
    "import pandas as pd\n",
    "import matplotlib.pyplot as plt\n",
    "import seaborn as sns\n",
    "from sklearn import model_selection, preprocessing, ensemble\n",
    "%matplotlib inline"
   ]
  },
  {
   "cell_type": "code",
   "execution_count": 33,
   "metadata": {
    "collapsed": true
   },
   "outputs": [],
   "source": [
    "def to_train_format(raw_data, categorical_columns):\n",
    "    \"\"\"\n",
    "    Converts categorical fields to dummies (and normalizes the values).\n",
    "    Returns a DataFrame.\n",
    "    \"\"\"\n",
    "    data = raw_data\n",
    "    for col in categorical_columns:\n",
    "        dummies = pd.get_dummies(data[col])\n",
    "        data = pd.concat([data, dummies], axis=1)\n",
    "        data = data.drop([col], axis=1)\n",
    "    return data\n",
    "\n",
    "def train_test_split(data, dependent_columns, test_size=0.20):\n",
    "    \"\"\"\n",
    "    Splits the formatted data into train and test sets.\n",
    "    Returns X and Y + associated test sets as DataFrames.\n",
    "    \"\"\"\n",
    "    X = data.drop(dependent_columns, axis=1)\n",
    "    Y = data[dependent_columns]\n",
    "    X_train, X_test, Y_train, Y_test = model_selection.train_test_split(X, Y, test_size=test_size)\n",
    "    return X_train, X_test, Y_train, Y_test\n",
    "\n",
    "def to_original_format(data, categorical_columns):\n",
    "    \"\"\"\n",
    "    Converts data from train format back to the original format.\n",
    "    \"\"\"\n",
    "    #original = data[categorical_columns].values().idxmax(axis=1)\n",
    "    return"
   ]
  },
  {
   "cell_type": "code",
   "execution_count": 17,
   "metadata": {},
   "outputs": [],
   "source": [
    "raw_data = pd.read_csv(\"refined_dataset.csv\").sort_values(by=\"date\")\n",
    "raw_data = raw_data.drop([\"sum\", \"location_name\", \"midsummer_week\"], axis=1)\n",
    "\n",
    "categorical_columns = [\"vehicle_type\", \"location_id\", \"direction\", \"weekday\", \"week\"]\n",
    "dependent_columns = [\"hour_{}\".format(n) for n in range(1,25)]\n",
    "\n",
    "data = to_train_format(raw_data, categorical_columns)\n",
    "\n",
    "X_train, X_test, Y_train, Y_test = train_test_split(data, dependent_columns)"
   ]
  },
  {
   "cell_type": "code",
   "execution_count": 34,
   "metadata": {},
   "outputs": [],
   "source": [
    "col = data.head(1)\n",
    "original = to_original_format(col, categorical_columns)"
   ]
  },
  {
   "cell_type": "code",
   "execution_count": 20,
   "metadata": {},
   "outputs": [
    {
     "data": {
      "text/plain": [
       "(22231, 76)"
      ]
     },
     "execution_count": 20,
     "metadata": {},
     "output_type": "execute_result"
    }
   ],
   "source": []
  },
  {
   "cell_type": "code",
   "execution_count": 21,
   "metadata": {},
   "outputs": [
    {
     "data": {
      "text/plain": [
       "(88920, 24)"
      ]
     },
     "execution_count": 21,
     "metadata": {},
     "output_type": "execute_result"
    }
   ],
   "source": []
  },
  {
   "cell_type": "code",
   "execution_count": 22,
   "metadata": {},
   "outputs": [
    {
     "data": {
      "text/plain": [
       "(22231, 24)"
      ]
     },
     "execution_count": 22,
     "metadata": {},
     "output_type": "execute_result"
    }
   ],
   "source": []
  },
  {
   "cell_type": "code",
   "execution_count": null,
   "metadata": {
    "collapsed": true
   },
   "outputs": [],
   "source": []
  }
 ],
 "metadata": {
  "anaconda-cloud": {},
  "kernelspec": {
   "display_name": "Python 3",
   "language": "python",
   "name": "python3"
  },
  "language_info": {
   "codemirror_mode": {
    "name": "ipython",
    "version": 3
   },
   "file_extension": ".py",
   "mimetype": "text/x-python",
   "name": "python",
   "nbconvert_exporter": "python",
   "pygments_lexer": "ipython3",
   "version": "3.6.1"
  }
 },
 "nbformat": 4,
 "nbformat_minor": 1
}
