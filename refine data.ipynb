{
 "cells": [
  {
   "cell_type": "code",
   "execution_count": 88,
   "metadata": {
    "collapsed": true
   },
   "outputs": [],
   "source": [
    "import pandas as pd\n",
    "from dateutil import parser"
   ]
  },
  {
   "cell_type": "code",
   "execution_count": 89,
   "metadata": {
    "collapsed": true
   },
   "outputs": [],
   "source": [
    "# import datasets\n",
    "raw_data = pd.read_csv(\"raw_dataset.csv\")\n",
    "weather_data = pd.read_csv(\"weather_1995_2018.csv\")"
   ]
  },
  {
   "cell_type": "code",
   "execution_count": 90,
   "metadata": {
    "collapsed": true
   },
   "outputs": [],
   "source": [
    "# add sum column\n",
    "raw_data[\"sum\"] = raw_data.apply(lambda row: sum([row[\"hour_{}\".format(x)] for x in range(1,25)]), axis=1)"
   ]
  },
  {
   "cell_type": "code",
   "execution_count": 91,
   "metadata": {
    "collapsed": false
   },
   "outputs": [],
   "source": [
    "# merge raw_data with weather data\n",
    "weather_data[\"date\"] = weather_data.apply(lambda row: \"{:04}/{:02}/{:02}\".format(row[\"Vuosi\"], row[\"Kk\"], row[\"Pv\"]), axis=1)\n",
    "weather_data = weather_data[[\"date\", \"Sademäärä (mm)\", \"Ilman lämpötila (degC)\"]]\n",
    "weather_data.columns = [\"date\", \"rain\", \"temperature\"]\n",
    "merged_data = raw_data.merge(weather_data, on=\"date\", how=\"left\")\n",
    "data = merged_data"
   ]
  },
  {
   "cell_type": "code",
   "execution_count": 92,
   "metadata": {
    "collapsed": false
   },
   "outputs": [],
   "source": [
    "# add date associated fields\n",
    "def get_year(date_str):\n",
    "    date = parser.parse(date_str, dayfirst=True)\n",
    "    return date.year\n",
    "\n",
    "def get_weekday(date_str):\n",
    "    date = parser.parse(date_str, dayfirst=True)\n",
    "    return date.weekday()\n",
    "\n",
    "def get_week(date_str):\n",
    "    date = parser.parse(date_str, dayfirst=True)\n",
    "    return date.isocalendar()[1]\n",
    "\n",
    "data[\"year\"] = data.date.apply(get_year)\n",
    "data[\"weekday\"] = data.date.apply(get_weekday)\n",
    "data[\"week\"] = data.date.apply(get_week)\n",
    "data[\"midsummer_week\"] = data.week.apply(lambda week: week==25)"
   ]
  },
  {
   "cell_type": "code",
   "execution_count": 93,
   "metadata": {
    "collapsed": true
   },
   "outputs": [],
   "source": [
    "# save the refined table as csv\n",
    "data.to_csv(\"refined_dataset.csv\", index=False)"
   ]
  },
  {
   "cell_type": "code",
   "execution_count": 94,
   "metadata": {
    "collapsed": false
   },
   "outputs": [
    {
     "name": "stdout",
     "output_type": "stream",
     "text": [
      "<class 'pandas.core.frame.DataFrame'>\n",
      "Int64Index: 111151 entries, 0 to 111150\n",
      "Data columns (total 36 columns):\n",
      "location_id       111151 non-null int64\n",
      "location_name     111151 non-null object\n",
      "date              111151 non-null object\n",
      "direction         111151 non-null int64\n",
      "vehicle_type      111151 non-null object\n",
      "hour_1            111151 non-null float64\n",
      "hour_2            111151 non-null float64\n",
      "hour_3            111151 non-null float64\n",
      "hour_4            111151 non-null float64\n",
      "hour_5            111151 non-null float64\n",
      "hour_6            111151 non-null float64\n",
      "hour_7            111151 non-null float64\n",
      "hour_8            111151 non-null float64\n",
      "hour_9            111151 non-null float64\n",
      "hour_10           111151 non-null float64\n",
      "hour_11           111151 non-null float64\n",
      "hour_12           111151 non-null float64\n",
      "hour_13           111151 non-null float64\n",
      "hour_14           111151 non-null float64\n",
      "hour_15           111151 non-null float64\n",
      "hour_16           111151 non-null float64\n",
      "hour_17           111151 non-null float64\n",
      "hour_18           111151 non-null float64\n",
      "hour_19           111151 non-null float64\n",
      "hour_20           111151 non-null float64\n",
      "hour_21           111151 non-null float64\n",
      "hour_22           111151 non-null float64\n",
      "hour_23           111151 non-null float64\n",
      "hour_24           111151 non-null float64\n",
      "sum               111151 non-null float64\n",
      "rain              111151 non-null float64\n",
      "temperature       111151 non-null float64\n",
      "year              111151 non-null int64\n",
      "weekday           111151 non-null int64\n",
      "week              111151 non-null int64\n",
      "midsummer_week    111151 non-null bool\n",
      "dtypes: bool(1), float64(27), int64(5), object(3)\n",
      "memory usage: 30.6+ MB\n"
     ]
    }
   ],
   "source": [
    "data.info()"
   ]
  },
  {
   "cell_type": "code",
   "execution_count": 34,
   "metadata": {
    "collapsed": false
   },
   "outputs": [],
   "source": []
  },
  {
   "cell_type": "code",
   "execution_count": null,
   "metadata": {
    "collapsed": false
   },
   "outputs": [],
   "source": []
  },
  {
   "cell_type": "code",
   "execution_count": null,
   "metadata": {
    "collapsed": true
   },
   "outputs": [],
   "source": []
  }
 ],
 "metadata": {
  "anaconda-cloud": {},
  "kernelspec": {
   "display_name": "Python [venv]",
   "language": "python",
   "name": "Python [venv]"
  },
  "language_info": {
   "codemirror_mode": {
    "name": "ipython",
    "version": 3
   },
   "file_extension": ".py",
   "mimetype": "text/x-python",
   "name": "python",
   "nbconvert_exporter": "python",
   "pygments_lexer": "ipython3",
   "version": "3.5.3"
  }
 },
 "nbformat": 4,
 "nbformat_minor": 0
}
