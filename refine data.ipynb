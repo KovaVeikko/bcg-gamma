{
 "cells": [
  {
   "cell_type": "code",
   "execution_count": 19,
   "metadata": {
    "collapsed": true
   },
   "outputs": [],
   "source": [
    "import pandas as pd\n",
    "from dateutil import parser"
   ]
  },
  {
   "cell_type": "code",
   "execution_count": 20,
   "metadata": {
    "collapsed": false
   },
   "outputs": [],
   "source": [
    "# import datasets\n",
    "raw_data = pd.read_csv(\"raw_dataset.csv\", parse_dates=[\"date\"])\n",
    "weather_data = pd.read_csv(\"weather_1995_2018.csv\")"
   ]
  },
  {
   "cell_type": "code",
   "execution_count": 21,
   "metadata": {
    "collapsed": true
   },
   "outputs": [],
   "source": [
    "# add sum column\n",
    "raw_data[\"sum\"] = raw_data.apply(lambda row: sum([row[\"hour_{}\".format(x)] for x in range(1,25)]), axis=1)"
   ]
  },
  {
   "cell_type": "code",
   "execution_count": 22,
   "metadata": {
    "collapsed": false
   },
   "outputs": [],
   "source": [
    "# merge raw_data with weather data\n",
    "weather_data[\"date\"] = weather_data.apply(lambda row: \"{:04}/{:02}/{:02}\".format(row[\"Vuosi\"], row[\"Kk\"], row[\"Pv\"]), axis=1).apply(pd.to_datetime)\n",
    "weather_data = weather_data[[\"date\", \"Sademäärä (mm)\", \"Ilman lämpötila (degC)\"]]\n",
    "weather_data.columns = [\"date\", \"rain\", \"temperature\"]\n",
    "merged_data = raw_data.merge(weather_data, on=\"date\", how=\"left\")\n",
    "data = merged_data"
   ]
  },
  {
   "cell_type": "code",
   "execution_count": 23,
   "metadata": {
    "collapsed": false
   },
   "outputs": [],
   "source": [
    "# add date associated fields\n",
    "data[\"year\"] = data.date.apply(lambda date: date.year)\n",
    "data[\"weekday\"] = data.date.apply(lambda date: date.weekday())\n",
    "data[\"week\"] = data.date.apply(lambda date: date.isocalendar()[1])\n",
    "data[\"midsummer_week\"] = data.week.apply(lambda week: week==25)"
   ]
  },
  {
   "cell_type": "code",
   "execution_count": 24,
   "metadata": {
    "collapsed": true
   },
   "outputs": [],
   "source": [
    "# save the refined table as csv\n",
    "data.to_csv(\"refined_dataset.csv\", index=False)"
   ]
  },
  {
   "cell_type": "code",
   "execution_count": 25,
   "metadata": {
    "collapsed": false
   },
   "outputs": [
    {
     "name": "stdout",
     "output_type": "stream",
     "text": [
      "<class 'pandas.core.frame.DataFrame'>\n",
      "Int64Index: 111151 entries, 0 to 111150\n",
      "Data columns (total 36 columns):\n",
      "location_id       111151 non-null int64\n",
      "location_name     111151 non-null object\n",
      "date              111151 non-null datetime64[ns]\n",
      "direction         111151 non-null int64\n",
      "vehicle_type      111151 non-null object\n",
      "hour_1            111151 non-null float64\n",
      "hour_2            111151 non-null float64\n",
      "hour_3            111151 non-null float64\n",
      "hour_4            111151 non-null float64\n",
      "hour_5            111151 non-null float64\n",
      "hour_6            111151 non-null float64\n",
      "hour_7            111151 non-null float64\n",
      "hour_8            111151 non-null float64\n",
      "hour_9            111151 non-null float64\n",
      "hour_10           111151 non-null float64\n",
      "hour_11           111151 non-null float64\n",
      "hour_12           111151 non-null float64\n",
      "hour_13           111151 non-null float64\n",
      "hour_14           111151 non-null float64\n",
      "hour_15           111151 non-null float64\n",
      "hour_16           111151 non-null float64\n",
      "hour_17           111151 non-null float64\n",
      "hour_18           111151 non-null float64\n",
      "hour_19           111151 non-null float64\n",
      "hour_20           111151 non-null float64\n",
      "hour_21           111151 non-null float64\n",
      "hour_22           111151 non-null float64\n",
      "hour_23           111151 non-null float64\n",
      "hour_24           111151 non-null float64\n",
      "sum               111151 non-null float64\n",
      "rain              111151 non-null float64\n",
      "temperature       111151 non-null float64\n",
      "year              111151 non-null int64\n",
      "weekday           111151 non-null int64\n",
      "week              111151 non-null int64\n",
      "midsummer_week    111151 non-null bool\n",
      "dtypes: bool(1), datetime64[ns](1), float64(27), int64(5), object(2)\n",
      "memory usage: 30.6+ MB\n"
     ]
    }
   ],
   "source": [
    "data.info()"
   ]
  },
  {
   "cell_type": "code",
   "execution_count": 26,
   "metadata": {
    "collapsed": false
   },
   "outputs": [
    {
     "data": {
      "text/html": [
       "<div>\n",
       "<style>\n",
       "    .dataframe thead tr:only-child th {\n",
       "        text-align: right;\n",
       "    }\n",
       "\n",
       "    .dataframe thead th {\n",
       "        text-align: left;\n",
       "    }\n",
       "\n",
       "    .dataframe tbody tr th {\n",
       "        vertical-align: top;\n",
       "    }\n",
       "</style>\n",
       "<table border=\"1\" class=\"dataframe\">\n",
       "  <thead>\n",
       "    <tr style=\"text-align: right;\">\n",
       "      <th></th>\n",
       "      <th>location_id</th>\n",
       "      <th>location_name</th>\n",
       "      <th>date</th>\n",
       "      <th>direction</th>\n",
       "      <th>vehicle_type</th>\n",
       "      <th>hour_1</th>\n",
       "      <th>hour_2</th>\n",
       "      <th>hour_3</th>\n",
       "      <th>hour_4</th>\n",
       "      <th>hour_5</th>\n",
       "      <th>...</th>\n",
       "      <th>hour_22</th>\n",
       "      <th>hour_23</th>\n",
       "      <th>hour_24</th>\n",
       "      <th>sum</th>\n",
       "      <th>rain</th>\n",
       "      <th>temperature</th>\n",
       "      <th>year</th>\n",
       "      <th>weekday</th>\n",
       "      <th>week</th>\n",
       "      <th>midsummer_week</th>\n",
       "    </tr>\n",
       "  </thead>\n",
       "  <tbody>\n",
       "    <tr>\n",
       "      <th>0</th>\n",
       "      <td>168</td>\n",
       "      <td>Askisto</td>\n",
       "      <td>2013-12-01</td>\n",
       "      <td>1</td>\n",
       "      <td>11 HA-PA</td>\n",
       "      <td>123.0</td>\n",
       "      <td>124.0</td>\n",
       "      <td>80.0</td>\n",
       "      <td>71.0</td>\n",
       "      <td>123.0</td>\n",
       "      <td>...</td>\n",
       "      <td>292.0</td>\n",
       "      <td>222.0</td>\n",
       "      <td>94.0</td>\n",
       "      <td>12588.0</td>\n",
       "      <td>0.9</td>\n",
       "      <td>2.0</td>\n",
       "      <td>2013</td>\n",
       "      <td>6</td>\n",
       "      <td>48</td>\n",
       "      <td>False</td>\n",
       "    </tr>\n",
       "    <tr>\n",
       "      <th>1</th>\n",
       "      <td>168</td>\n",
       "      <td>Askisto</td>\n",
       "      <td>2013-12-01</td>\n",
       "      <td>1</td>\n",
       "      <td>12 KAIP</td>\n",
       "      <td>2.0</td>\n",
       "      <td>1.0</td>\n",
       "      <td>1.0</td>\n",
       "      <td>1.0</td>\n",
       "      <td>0.0</td>\n",
       "      <td>...</td>\n",
       "      <td>5.0</td>\n",
       "      <td>1.0</td>\n",
       "      <td>8.0</td>\n",
       "      <td>133.0</td>\n",
       "      <td>0.9</td>\n",
       "      <td>2.0</td>\n",
       "      <td>2013</td>\n",
       "      <td>6</td>\n",
       "      <td>48</td>\n",
       "      <td>False</td>\n",
       "    </tr>\n",
       "    <tr>\n",
       "      <th>2</th>\n",
       "      <td>168</td>\n",
       "      <td>Askisto</td>\n",
       "      <td>2013-12-01</td>\n",
       "      <td>1</td>\n",
       "      <td>13 Linja-autot</td>\n",
       "      <td>1.0</td>\n",
       "      <td>2.0</td>\n",
       "      <td>1.0</td>\n",
       "      <td>1.0</td>\n",
       "      <td>0.0</td>\n",
       "      <td>...</td>\n",
       "      <td>3.0</td>\n",
       "      <td>2.0</td>\n",
       "      <td>1.0</td>\n",
       "      <td>48.0</td>\n",
       "      <td>0.9</td>\n",
       "      <td>2.0</td>\n",
       "      <td>2013</td>\n",
       "      <td>6</td>\n",
       "      <td>48</td>\n",
       "      <td>False</td>\n",
       "    </tr>\n",
       "    <tr>\n",
       "      <th>3</th>\n",
       "      <td>168</td>\n",
       "      <td>Askisto</td>\n",
       "      <td>2013-12-01</td>\n",
       "      <td>1</td>\n",
       "      <td>14 KAPP</td>\n",
       "      <td>0.0</td>\n",
       "      <td>0.0</td>\n",
       "      <td>0.0</td>\n",
       "      <td>0.0</td>\n",
       "      <td>1.0</td>\n",
       "      <td>...</td>\n",
       "      <td>12.0</td>\n",
       "      <td>19.0</td>\n",
       "      <td>6.0</td>\n",
       "      <td>121.0</td>\n",
       "      <td>0.9</td>\n",
       "      <td>2.0</td>\n",
       "      <td>2013</td>\n",
       "      <td>6</td>\n",
       "      <td>48</td>\n",
       "      <td>False</td>\n",
       "    </tr>\n",
       "    <tr>\n",
       "      <th>4</th>\n",
       "      <td>168</td>\n",
       "      <td>Askisto</td>\n",
       "      <td>2013-12-01</td>\n",
       "      <td>1</td>\n",
       "      <td>15 KATP</td>\n",
       "      <td>0.0</td>\n",
       "      <td>0.0</td>\n",
       "      <td>0.0</td>\n",
       "      <td>0.0</td>\n",
       "      <td>1.0</td>\n",
       "      <td>...</td>\n",
       "      <td>9.0</td>\n",
       "      <td>12.0</td>\n",
       "      <td>7.0</td>\n",
       "      <td>103.0</td>\n",
       "      <td>0.9</td>\n",
       "      <td>2.0</td>\n",
       "      <td>2013</td>\n",
       "      <td>6</td>\n",
       "      <td>48</td>\n",
       "      <td>False</td>\n",
       "    </tr>\n",
       "  </tbody>\n",
       "</table>\n",
       "<p>5 rows × 36 columns</p>\n",
       "</div>"
      ],
      "text/plain": [
       "   location_id location_name       date  direction    vehicle_type  hour_1  \\\n",
       "0          168       Askisto 2013-12-01          1        11 HA-PA   123.0   \n",
       "1          168       Askisto 2013-12-01          1         12 KAIP     2.0   \n",
       "2          168       Askisto 2013-12-01          1  13 Linja-autot     1.0   \n",
       "3          168       Askisto 2013-12-01          1         14 KAPP     0.0   \n",
       "4          168       Askisto 2013-12-01          1         15 KATP     0.0   \n",
       "\n",
       "   hour_2  hour_3  hour_4  hour_5       ...        hour_22  hour_23  hour_24  \\\n",
       "0   124.0    80.0    71.0   123.0       ...          292.0    222.0     94.0   \n",
       "1     1.0     1.0     1.0     0.0       ...            5.0      1.0      8.0   \n",
       "2     2.0     1.0     1.0     0.0       ...            3.0      2.0      1.0   \n",
       "3     0.0     0.0     0.0     1.0       ...           12.0     19.0      6.0   \n",
       "4     0.0     0.0     0.0     1.0       ...            9.0     12.0      7.0   \n",
       "\n",
       "       sum  rain  temperature  year  weekday  week  midsummer_week  \n",
       "0  12588.0   0.9          2.0  2013        6    48           False  \n",
       "1    133.0   0.9          2.0  2013        6    48           False  \n",
       "2     48.0   0.9          2.0  2013        6    48           False  \n",
       "3    121.0   0.9          2.0  2013        6    48           False  \n",
       "4    103.0   0.9          2.0  2013        6    48           False  \n",
       "\n",
       "[5 rows x 36 columns]"
      ]
     },
     "execution_count": 26,
     "metadata": {},
     "output_type": "execute_result"
    }
   ],
   "source": [
    "data.head()"
   ]
  },
  {
   "cell_type": "code",
   "execution_count": null,
   "metadata": {
    "collapsed": false
   },
   "outputs": [],
   "source": []
  },
  {
   "cell_type": "code",
   "execution_count": null,
   "metadata": {
    "collapsed": true
   },
   "outputs": [],
   "source": []
  }
 ],
 "metadata": {
  "anaconda-cloud": {},
  "kernelspec": {
   "display_name": "Python [venv]",
   "language": "python",
   "name": "Python [venv]"
  },
  "language_info": {
   "codemirror_mode": {
    "name": "ipython",
    "version": 3
   },
   "file_extension": ".py",
   "mimetype": "text/x-python",
   "name": "python",
   "nbconvert_exporter": "python",
   "pygments_lexer": "ipython3",
   "version": "3.5.3"
  }
 },
 "nbformat": 4,
 "nbformat_minor": 0
}
